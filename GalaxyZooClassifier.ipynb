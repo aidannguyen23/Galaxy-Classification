{
  "nbformat": 4,
  "nbformat_minor": 0,
  "metadata": {
    "colab": {
      "provenance": [],
      "collapsed_sections": [
        "c5xyU5VBoEuH",
        "Lct6caRsoJUX",
        "OyG0yFayn1E7",
        "_zqV0ibCn33T",
        "5MZQrRIU1XCg",
        "w6c1JyoC1hk4",
        "pzEYFlx54TRI"
      ],
      "mount_file_id": "1e5J-sW--3dMrSPdOXIvXgAh3n1707sIp",
      "authorship_tag": "ABX9TyPyPbW78kkIrynJsHwuGRt1",
      "include_colab_link": true
    },
    "kernelspec": {
      "name": "python3",
      "display_name": "Python 3"
    },
    "language_info": {
      "name": "python"
    }
  },
  "cells": [
    {
      "cell_type": "markdown",
      "metadata": {
        "id": "view-in-github",
        "colab_type": "text"
      },
      "source": [
        "<a href=\"https://colab.research.google.com/github/aidannguyen23/Galaxy-Classification/blob/main/GalaxyZooClassifier.ipynb\" target=\"_parent\"><img src=\"https://colab.research.google.com/assets/colab-badge.svg\" alt=\"Open In Colab\"/></a>"
      ]
    },
    {
      "cell_type": "markdown",
      "source": [
        "# Import Libraries"
      ],
      "metadata": {
        "id": "c5xyU5VBoEuH"
      }
    },
    {
      "cell_type": "code",
      "execution_count": 2,
      "metadata": {
        "id": "o5pJyaAOBftR"
      },
      "outputs": [],
      "source": [
        "import numpy as np\n",
        "import pandas as pd\n",
        "import matplotlib.pyplot as plt\n",
        "from sklearn.preprocessing import StandardScaler\n",
        "from imblearn.over_sampling import RandomOverSampler\n",
        "from sklearn.metrics import classification_report"
      ]
    },
    {
      "cell_type": "markdown",
      "source": [
        "#Read and Clean Data"
      ],
      "metadata": {
        "id": "Lct6caRsoJUX"
      }
    },
    {
      "cell_type": "code",
      "source": [
        "df = pd.read_csv('/content/drive/MyDrive/GalaxyZoo1_DR_table2.csv')\n",
        "df.head() #shows the first 5 rows"
      ],
      "metadata": {
        "id": "NDR-gtz0Gm1L",
        "colab": {
          "base_uri": "https://localhost:8080/",
          "height": 226
        },
        "outputId": "a3832999-6c90-4f8b-ec32-5129634b397c"
      },
      "execution_count": 3,
      "outputs": [
        {
          "output_type": "execute_result",
          "data": {
            "text/plain": [
              "                OBJID           RA          DEC  NVOTE   P_EL   P_CW  P_ACW  \\\n",
              "0  587727178986356823  00:00:00.41  -10:22:25.7     59  0.610  0.034  0.000   \n",
              "1  587727227300741210  00:00:00.74  -09:13:20.2     18  0.611  0.000  0.167   \n",
              "2  587727225153257596  00:00:01.03  -10:56:48.0     68  0.735  0.029  0.000   \n",
              "3  587730774962536596  00:00:01.38  +15:30:35.3     52  0.885  0.019  0.000   \n",
              "4  587731186203885750  00:00:01.55  -00:05:33.3     59  0.712  0.000  0.000   \n",
              "\n",
              "   P_EDGE   P_DK   P_MG   P_CS  P_EL_DEBIASED  P_CS_DEBIASED  SPIRAL  \\\n",
              "0   0.153  0.153  0.051  0.186          0.610          0.186       0   \n",
              "1   0.222  0.000  0.000  0.389          0.203          0.797       1   \n",
              "2   0.147  0.074  0.015  0.176          0.432          0.428       0   \n",
              "3   0.058  0.019  0.019  0.077          0.885          0.077       0   \n",
              "4   0.220  0.068  0.000  0.220          0.640          0.290       0   \n",
              "\n",
              "   ELLIPTICAL  UNCERTAIN  \n",
              "0           0          1  \n",
              "1           0          0  \n",
              "2           0          1  \n",
              "3           1          0  \n",
              "4           0          1  "
            ],
            "text/html": [
              "\n",
              "  <div id=\"df-85c7291d-12e9-4368-ac65-8291b17833d9\" class=\"colab-df-container\">\n",
              "    <div>\n",
              "<style scoped>\n",
              "    .dataframe tbody tr th:only-of-type {\n",
              "        vertical-align: middle;\n",
              "    }\n",
              "\n",
              "    .dataframe tbody tr th {\n",
              "        vertical-align: top;\n",
              "    }\n",
              "\n",
              "    .dataframe thead th {\n",
              "        text-align: right;\n",
              "    }\n",
              "</style>\n",
              "<table border=\"1\" class=\"dataframe\">\n",
              "  <thead>\n",
              "    <tr style=\"text-align: right;\">\n",
              "      <th></th>\n",
              "      <th>OBJID</th>\n",
              "      <th>RA</th>\n",
              "      <th>DEC</th>\n",
              "      <th>NVOTE</th>\n",
              "      <th>P_EL</th>\n",
              "      <th>P_CW</th>\n",
              "      <th>P_ACW</th>\n",
              "      <th>P_EDGE</th>\n",
              "      <th>P_DK</th>\n",
              "      <th>P_MG</th>\n",
              "      <th>P_CS</th>\n",
              "      <th>P_EL_DEBIASED</th>\n",
              "      <th>P_CS_DEBIASED</th>\n",
              "      <th>SPIRAL</th>\n",
              "      <th>ELLIPTICAL</th>\n",
              "      <th>UNCERTAIN</th>\n",
              "    </tr>\n",
              "  </thead>\n",
              "  <tbody>\n",
              "    <tr>\n",
              "      <th>0</th>\n",
              "      <td>587727178986356823</td>\n",
              "      <td>00:00:00.41</td>\n",
              "      <td>-10:22:25.7</td>\n",
              "      <td>59</td>\n",
              "      <td>0.610</td>\n",
              "      <td>0.034</td>\n",
              "      <td>0.000</td>\n",
              "      <td>0.153</td>\n",
              "      <td>0.153</td>\n",
              "      <td>0.051</td>\n",
              "      <td>0.186</td>\n",
              "      <td>0.610</td>\n",
              "      <td>0.186</td>\n",
              "      <td>0</td>\n",
              "      <td>0</td>\n",
              "      <td>1</td>\n",
              "    </tr>\n",
              "    <tr>\n",
              "      <th>1</th>\n",
              "      <td>587727227300741210</td>\n",
              "      <td>00:00:00.74</td>\n",
              "      <td>-09:13:20.2</td>\n",
              "      <td>18</td>\n",
              "      <td>0.611</td>\n",
              "      <td>0.000</td>\n",
              "      <td>0.167</td>\n",
              "      <td>0.222</td>\n",
              "      <td>0.000</td>\n",
              "      <td>0.000</td>\n",
              "      <td>0.389</td>\n",
              "      <td>0.203</td>\n",
              "      <td>0.797</td>\n",
              "      <td>1</td>\n",
              "      <td>0</td>\n",
              "      <td>0</td>\n",
              "    </tr>\n",
              "    <tr>\n",
              "      <th>2</th>\n",
              "      <td>587727225153257596</td>\n",
              "      <td>00:00:01.03</td>\n",
              "      <td>-10:56:48.0</td>\n",
              "      <td>68</td>\n",
              "      <td>0.735</td>\n",
              "      <td>0.029</td>\n",
              "      <td>0.000</td>\n",
              "      <td>0.147</td>\n",
              "      <td>0.074</td>\n",
              "      <td>0.015</td>\n",
              "      <td>0.176</td>\n",
              "      <td>0.432</td>\n",
              "      <td>0.428</td>\n",
              "      <td>0</td>\n",
              "      <td>0</td>\n",
              "      <td>1</td>\n",
              "    </tr>\n",
              "    <tr>\n",
              "      <th>3</th>\n",
              "      <td>587730774962536596</td>\n",
              "      <td>00:00:01.38</td>\n",
              "      <td>+15:30:35.3</td>\n",
              "      <td>52</td>\n",
              "      <td>0.885</td>\n",
              "      <td>0.019</td>\n",
              "      <td>0.000</td>\n",
              "      <td>0.058</td>\n",
              "      <td>0.019</td>\n",
              "      <td>0.019</td>\n",
              "      <td>0.077</td>\n",
              "      <td>0.885</td>\n",
              "      <td>0.077</td>\n",
              "      <td>0</td>\n",
              "      <td>1</td>\n",
              "      <td>0</td>\n",
              "    </tr>\n",
              "    <tr>\n",
              "      <th>4</th>\n",
              "      <td>587731186203885750</td>\n",
              "      <td>00:00:01.55</td>\n",
              "      <td>-00:05:33.3</td>\n",
              "      <td>59</td>\n",
              "      <td>0.712</td>\n",
              "      <td>0.000</td>\n",
              "      <td>0.000</td>\n",
              "      <td>0.220</td>\n",
              "      <td>0.068</td>\n",
              "      <td>0.000</td>\n",
              "      <td>0.220</td>\n",
              "      <td>0.640</td>\n",
              "      <td>0.290</td>\n",
              "      <td>0</td>\n",
              "      <td>0</td>\n",
              "      <td>1</td>\n",
              "    </tr>\n",
              "  </tbody>\n",
              "</table>\n",
              "</div>\n",
              "    <div class=\"colab-df-buttons\">\n",
              "\n",
              "  <div class=\"colab-df-container\">\n",
              "    <button class=\"colab-df-convert\" onclick=\"convertToInteractive('df-85c7291d-12e9-4368-ac65-8291b17833d9')\"\n",
              "            title=\"Convert this dataframe to an interactive table.\"\n",
              "            style=\"display:none;\">\n",
              "\n",
              "  <svg xmlns=\"http://www.w3.org/2000/svg\" height=\"24px\" viewBox=\"0 -960 960 960\">\n",
              "    <path d=\"M120-120v-720h720v720H120Zm60-500h600v-160H180v160Zm220 220h160v-160H400v160Zm0 220h160v-160H400v160ZM180-400h160v-160H180v160Zm440 0h160v-160H620v160ZM180-180h160v-160H180v160Zm440 0h160v-160H620v160Z\"/>\n",
              "  </svg>\n",
              "    </button>\n",
              "\n",
              "  <style>\n",
              "    .colab-df-container {\n",
              "      display:flex;\n",
              "      gap: 12px;\n",
              "    }\n",
              "\n",
              "    .colab-df-convert {\n",
              "      background-color: #E8F0FE;\n",
              "      border: none;\n",
              "      border-radius: 50%;\n",
              "      cursor: pointer;\n",
              "      display: none;\n",
              "      fill: #1967D2;\n",
              "      height: 32px;\n",
              "      padding: 0 0 0 0;\n",
              "      width: 32px;\n",
              "    }\n",
              "\n",
              "    .colab-df-convert:hover {\n",
              "      background-color: #E2EBFA;\n",
              "      box-shadow: 0px 1px 2px rgba(60, 64, 67, 0.3), 0px 1px 3px 1px rgba(60, 64, 67, 0.15);\n",
              "      fill: #174EA6;\n",
              "    }\n",
              "\n",
              "    .colab-df-buttons div {\n",
              "      margin-bottom: 4px;\n",
              "    }\n",
              "\n",
              "    [theme=dark] .colab-df-convert {\n",
              "      background-color: #3B4455;\n",
              "      fill: #D2E3FC;\n",
              "    }\n",
              "\n",
              "    [theme=dark] .colab-df-convert:hover {\n",
              "      background-color: #434B5C;\n",
              "      box-shadow: 0px 1px 3px 1px rgba(0, 0, 0, 0.15);\n",
              "      filter: drop-shadow(0px 1px 2px rgba(0, 0, 0, 0.3));\n",
              "      fill: #FFFFFF;\n",
              "    }\n",
              "  </style>\n",
              "\n",
              "    <script>\n",
              "      const buttonEl =\n",
              "        document.querySelector('#df-85c7291d-12e9-4368-ac65-8291b17833d9 button.colab-df-convert');\n",
              "      buttonEl.style.display =\n",
              "        google.colab.kernel.accessAllowed ? 'block' : 'none';\n",
              "\n",
              "      async function convertToInteractive(key) {\n",
              "        const element = document.querySelector('#df-85c7291d-12e9-4368-ac65-8291b17833d9');\n",
              "        const dataTable =\n",
              "          await google.colab.kernel.invokeFunction('convertToInteractive',\n",
              "                                                    [key], {});\n",
              "        if (!dataTable) return;\n",
              "\n",
              "        const docLinkHtml = 'Like what you see? Visit the ' +\n",
              "          '<a target=\"_blank\" href=https://colab.research.google.com/notebooks/data_table.ipynb>data table notebook</a>'\n",
              "          + ' to learn more about interactive tables.';\n",
              "        element.innerHTML = '';\n",
              "        dataTable['output_type'] = 'display_data';\n",
              "        await google.colab.output.renderOutput(dataTable, element);\n",
              "        const docLink = document.createElement('div');\n",
              "        docLink.innerHTML = docLinkHtml;\n",
              "        element.appendChild(docLink);\n",
              "      }\n",
              "    </script>\n",
              "  </div>\n",
              "\n",
              "\n",
              "<div id=\"df-be51f840-2265-4084-9210-5899fe05ff2c\">\n",
              "  <button class=\"colab-df-quickchart\" onclick=\"quickchart('df-be51f840-2265-4084-9210-5899fe05ff2c')\"\n",
              "            title=\"Suggest charts\"\n",
              "            style=\"display:none;\">\n",
              "\n",
              "<svg xmlns=\"http://www.w3.org/2000/svg\" height=\"24px\"viewBox=\"0 0 24 24\"\n",
              "     width=\"24px\">\n",
              "    <g>\n",
              "        <path d=\"M19 3H5c-1.1 0-2 .9-2 2v14c0 1.1.9 2 2 2h14c1.1 0 2-.9 2-2V5c0-1.1-.9-2-2-2zM9 17H7v-7h2v7zm4 0h-2V7h2v10zm4 0h-2v-4h2v4z\"/>\n",
              "    </g>\n",
              "</svg>\n",
              "  </button>\n",
              "\n",
              "<style>\n",
              "  .colab-df-quickchart {\n",
              "      --bg-color: #E8F0FE;\n",
              "      --fill-color: #1967D2;\n",
              "      --hover-bg-color: #E2EBFA;\n",
              "      --hover-fill-color: #174EA6;\n",
              "      --disabled-fill-color: #AAA;\n",
              "      --disabled-bg-color: #DDD;\n",
              "  }\n",
              "\n",
              "  [theme=dark] .colab-df-quickchart {\n",
              "      --bg-color: #3B4455;\n",
              "      --fill-color: #D2E3FC;\n",
              "      --hover-bg-color: #434B5C;\n",
              "      --hover-fill-color: #FFFFFF;\n",
              "      --disabled-bg-color: #3B4455;\n",
              "      --disabled-fill-color: #666;\n",
              "  }\n",
              "\n",
              "  .colab-df-quickchart {\n",
              "    background-color: var(--bg-color);\n",
              "    border: none;\n",
              "    border-radius: 50%;\n",
              "    cursor: pointer;\n",
              "    display: none;\n",
              "    fill: var(--fill-color);\n",
              "    height: 32px;\n",
              "    padding: 0;\n",
              "    width: 32px;\n",
              "  }\n",
              "\n",
              "  .colab-df-quickchart:hover {\n",
              "    background-color: var(--hover-bg-color);\n",
              "    box-shadow: 0 1px 2px rgba(60, 64, 67, 0.3), 0 1px 3px 1px rgba(60, 64, 67, 0.15);\n",
              "    fill: var(--button-hover-fill-color);\n",
              "  }\n",
              "\n",
              "  .colab-df-quickchart-complete:disabled,\n",
              "  .colab-df-quickchart-complete:disabled:hover {\n",
              "    background-color: var(--disabled-bg-color);\n",
              "    fill: var(--disabled-fill-color);\n",
              "    box-shadow: none;\n",
              "  }\n",
              "\n",
              "  .colab-df-spinner {\n",
              "    border: 2px solid var(--fill-color);\n",
              "    border-color: transparent;\n",
              "    border-bottom-color: var(--fill-color);\n",
              "    animation:\n",
              "      spin 1s steps(1) infinite;\n",
              "  }\n",
              "\n",
              "  @keyframes spin {\n",
              "    0% {\n",
              "      border-color: transparent;\n",
              "      border-bottom-color: var(--fill-color);\n",
              "      border-left-color: var(--fill-color);\n",
              "    }\n",
              "    20% {\n",
              "      border-color: transparent;\n",
              "      border-left-color: var(--fill-color);\n",
              "      border-top-color: var(--fill-color);\n",
              "    }\n",
              "    30% {\n",
              "      border-color: transparent;\n",
              "      border-left-color: var(--fill-color);\n",
              "      border-top-color: var(--fill-color);\n",
              "      border-right-color: var(--fill-color);\n",
              "    }\n",
              "    40% {\n",
              "      border-color: transparent;\n",
              "      border-right-color: var(--fill-color);\n",
              "      border-top-color: var(--fill-color);\n",
              "    }\n",
              "    60% {\n",
              "      border-color: transparent;\n",
              "      border-right-color: var(--fill-color);\n",
              "    }\n",
              "    80% {\n",
              "      border-color: transparent;\n",
              "      border-right-color: var(--fill-color);\n",
              "      border-bottom-color: var(--fill-color);\n",
              "    }\n",
              "    90% {\n",
              "      border-color: transparent;\n",
              "      border-bottom-color: var(--fill-color);\n",
              "    }\n",
              "  }\n",
              "</style>\n",
              "\n",
              "  <script>\n",
              "    async function quickchart(key) {\n",
              "      const quickchartButtonEl =\n",
              "        document.querySelector('#' + key + ' button');\n",
              "      quickchartButtonEl.disabled = true;  // To prevent multiple clicks.\n",
              "      quickchartButtonEl.classList.add('colab-df-spinner');\n",
              "      try {\n",
              "        const charts = await google.colab.kernel.invokeFunction(\n",
              "            'suggestCharts', [key], {});\n",
              "      } catch (error) {\n",
              "        console.error('Error during call to suggestCharts:', error);\n",
              "      }\n",
              "      quickchartButtonEl.classList.remove('colab-df-spinner');\n",
              "      quickchartButtonEl.classList.add('colab-df-quickchart-complete');\n",
              "    }\n",
              "    (() => {\n",
              "      let quickchartButtonEl =\n",
              "        document.querySelector('#df-be51f840-2265-4084-9210-5899fe05ff2c button');\n",
              "      quickchartButtonEl.style.display =\n",
              "        google.colab.kernel.accessAllowed ? 'block' : 'none';\n",
              "    })();\n",
              "  </script>\n",
              "</div>\n",
              "\n",
              "    </div>\n",
              "  </div>\n"
            ]
          },
          "metadata": {},
          "execution_count": 3
        }
      ]
    },
    {
      "cell_type": "code",
      "source": [
        "df = df.drop([\"OBJID\", \"NVOTE\", \"RA\", \"DEC\"], axis=1)\n",
        "df['CLASS'] = 0"
      ],
      "metadata": {
        "id": "QJKCOr_pII-v"
      },
      "execution_count": 4,
      "outputs": []
    },
    {
      "cell_type": "code",
      "source": [
        "def combine_classes(row):\n",
        "    if row[\"SPIRAL\"] == 1:\n",
        "        return 1\n",
        "    elif row[\"ELLIPTICAL\"] == 1:\n",
        "        return 2\n",
        "    elif row[\"UNCERTAIN\"] == 1:\n",
        "        return 3\n",
        "    else:\n",
        "        return None  # Incase, Return None for rows that don't match any condition\n",
        "\n",
        "# Spiral = 1\n",
        "# Elliptical = 2\n",
        "# Uncertain = 3\n",
        "\n",
        "df[\"CLASS\"] = df.apply(combine_classes, axis=1)\n",
        "df = df.drop([\"SPIRAL\", \"ELLIPTICAL\", \"UNCERTAIN\"], axis=1)"
      ],
      "metadata": {
        "id": "8JKmODY4JZSL"
      },
      "execution_count": 5,
      "outputs": []
    },
    {
      "cell_type": "markdown",
      "source": [
        "# Visualize Variables"
      ],
      "metadata": {
        "id": "OyG0yFayn1E7"
      }
    },
    {
      "cell_type": "code",
      "source": [
        "import matplotlib.pyplot as plt\n",
        "\n",
        "fig, axs = plt.subplots(nrows=3, ncols=3, figsize=(10, 10))\n",
        "\n",
        "for i, label in enumerate(df.columns[:9]):\n",
        "    col = i % 3\n",
        "    row = i // 3\n",
        "    axs[row, col].hist(df[df[\"CLASS\"] == 1][label], color='blue', label='galaxyvar1', alpha=0.7, density=True)\n",
        "    axs[row, col].hist(df[df[\"CLASS\"] == 2][label], color='red', label='galaxyvar2', alpha=0.7, density=True)\n",
        "    axs[row, col].hist(df[df[\"CLASS\"] == 3][label], color='green', label='galaxyvar3', alpha=0.7, density=True)\n",
        "    axs[row, col].set_ylabel(\"Probability\")\n",
        "    axs[row, col].set_xlabel(label)\n",
        "    plt.gca().set_aspect('auto')  # Set the aspect ratio to be equal\n",
        "\n",
        "plt.tight_layout()\n",
        "plt.show()\n",
        "\n",
        "print(\"Spiral = Blue\")\n",
        "print(\"Elliptic = Red\")\n",
        "print(\"Uncertain = Green\")"
      ],
      "metadata": {
        "id": "1E_CfW2chjMD",
        "colab": {
          "base_uri": "https://localhost:8080/",
          "height": 1000
        },
        "outputId": "9f7d6127-a912-4958-bbea-e04587cc9a63"
      },
      "execution_count": 6,
      "outputs": [
        {
          "output_type": "display_data",
          "data": {
            "text/plain": [
              "<Figure size 1000x1000 with 9 Axes>"
            ],
            "image/png": "[encoded data removed]"
          },
          "metadata": {}
        },
        {
          "output_type": "stream",
          "name": "stdout",
          "text": [
            "Spiral = Blue\n",
            "Elliptic = Red\n",
            "Uncertain = Green\n"
          ]
        }
      ]
    },
    {
      "cell_type": "markdown",
      "source": [
        "# Shuffle and Split the Data"
      ],
      "metadata": {
        "id": "_zqV0ibCn33T"
      }
    },
    {
      "cell_type": "code",
      "source": [
        "print('Number of Spiral Galaxies: ' + str(df['CLASS'].value_counts()[1]))\n",
        "print('Number of Elliptical Galaxies: ' + str(df['CLASS'].value_counts()[2]))\n",
        "print('Number of Uncertain Galaxies: ' + str(df['CLASS'].value_counts()[3]))"
      ],
      "metadata": {
        "id": "NShX1bRSn9kB",
        "colab": {
          "base_uri": "https://localhost:8080/"
        },
        "outputId": "4000efb2-9c03-4ea2-8c35-248033a3a55b"
      },
      "execution_count": 7,
      "outputs": [
        {
          "output_type": "stream",
          "name": "stdout",
          "text": [
            "Number of Spiral Galaxies: 190225\n",
            "Number of Elliptical Galaxies: 62190\n",
            "Number of Uncertain Galaxies: 415529\n"
          ]
        }
      ]
    },
    {
      "cell_type": "code",
      "source": [
        "from sklearn.model_selection import train_test_split\n",
        "\n",
        "# Assuming 'df' is your DataFrame\n",
        "\n",
        "# Splitting the data into train (60%), validation (20%), and test (20%) sets\n",
        "train, temp = train_test_split(df, test_size=0.4, random_state=42)\n",
        "valid, test = train_test_split(temp, test_size=0.5, random_state=42)\n",
        "\n",
        "# Displaying the lengths of train, validation, and test sets\n",
        "print(f\"Train set length: {len(train)}\")\n",
        "print(f\"Validation set length: {len(valid)}\")\n",
        "print(f\"Test set length: {len(test)}\")\n"
      ],
      "metadata": {
        "id": "2x5IKcMUGozo",
        "colab": {
          "base_uri": "https://localhost:8080/"
        },
        "outputId": "850daa80-216b-489b-eba6-71626b97cad6"
      },
      "execution_count": 8,
      "outputs": [
        {
          "output_type": "stream",
          "name": "stdout",
          "text": [
            "Train set length: 400766\n",
            "Validation set length: 133589\n",
            "Test set length: 133589\n"
          ]
        }
      ]
    },
    {
      "cell_type": "code",
      "source": [
        "# Rescale the numbers in the columns\n",
        "def scale_dataset(dataframe, oversample = False):\n",
        "\n",
        "  x = dataframe[dataframe.columns[:-1]].values  # Selects all feature columns\n",
        "  y = dataframe[dataframe.columns[-1]].values   # Selects the target column\n",
        "\n",
        "# 'x' will contain the feature values (input variables)\n",
        "# 'y' will contain the corresponding target values\n",
        "  # take x and fit the standard scalar to x and then transform all of the values\n",
        "  scaler = StandardScaler()\n",
        "  x = scaler.fit_transform(x)\n",
        "\n",
        "  # There are a lot less Spiral and Eliptical than Unknown so have to make it more equal by\n",
        "  # sampling more from the smaller datasets\n",
        "  if oversample:\n",
        "    ros = RandomOverSampler()\n",
        "    x, y = ros.fit_resample(x, y)\n",
        "\n",
        "  # create the whole data as a 2D numpy array\n",
        "  # take an array and another array and stack them together\n",
        "  # however y is not 2D so we have to make it 2D\n",
        "  data = np.hstack((x, np.reshape(y,(-1,1))))\n",
        "  return data, x, y"
      ],
      "metadata": {
        "id": "Yub4CwHiGqd7"
      },
      "execution_count": 9,
      "outputs": []
    },
    {
      "cell_type": "code",
      "source": [
        "# Only want to oversample the training set because the other two are meant to model the real thing\n",
        "train, x_train, y_train = scale_dataset(train, oversample = True)\n",
        "valid, x_valid, y_valid = scale_dataset(valid, oversample = False)\n",
        "test, x_test, y_test = scale_dataset(test, oversample = False)"
      ],
      "metadata": {
        "id": "tCYQHVQaGt_2"
      },
      "execution_count": 10,
      "outputs": []
    },
    {
      "cell_type": "markdown",
      "source": [
        "#K-Nearest Neighbors Model\n",
        "Defines a distance function (Euclidean), just a straight line, to all of the other points from the training set (distance formula) and takes the label of the majority closest neighbors.\n",
        "\n",
        "k: the number of nearest neighbors we use to classify Take the form of the majority\n",
        "\n",
        "This can also be used for higher dimensions."
      ],
      "metadata": {
        "id": "b_Gxm9NAHH-O"
      }
    },
    {
      "cell_type": "code",
      "source": [
        "from sklearn.neighbors import KNeighborsClassifier"
      ],
      "metadata": {
        "id": "MaV49QU4HLZM"
      },
      "execution_count": 11,
      "outputs": []
    },
    {
      "cell_type": "code",
      "source": [
        "# change number of neighbors k\n",
        "knn_model = KNeighborsClassifier(n_neighbors=3)\n",
        "knn_model.fit(x_train, y_train)"
      ],
      "metadata": {
        "id": "NI6GhIT0HP5s",
        "colab": {
          "base_uri": "https://localhost:8080/",
          "height": 75
        },
        "outputId": "63607dcf-46a8-4ebf-e9af-9fb93a018da7"
      },
      "execution_count": 12,
      "outputs": [
        {
          "output_type": "execute_result",
          "data": {
            "text/plain": [
              "KNeighborsClassifier(n_neighbors=3)"
            ],
            "text/html": [
              "<style>#sk-container-id-1 {color: black;background-color: white;}#sk-container-id-1 pre{padding: 0;}#sk-container-id-1 div.sk-toggleable {background-color: white;}#sk-container-id-1 label.sk-toggleable__label {cursor: pointer;display: block;width: 100%;margin-bottom: 0;padding: 0.3em;box-sizing: border-box;text-align: center;}#sk-container-id-1 label.sk-toggleable__label-arrow:before {content: \"▸\";float: left;margin-right: 0.25em;color: #696969;}#sk-container-id-1 label.sk-toggleable__label-arrow:hover:before {color: black;}#sk-container-id-1 div.sk-estimator:hover label.sk-toggleable__label-arrow:before {color: black;}#sk-container-id-1 div.sk-toggleable__content {max-height: 0;max-width: 0;overflow: hidden;text-align: left;background-color: #f0f8ff;}#sk-container-id-1 div.sk-toggleable__content pre {margin: 0.2em;color: black;border-radius: 0.25em;background-color: #f0f8ff;}#sk-container-id-1 input.sk-toggleable__control:checked~div.sk-toggleable__content {max-height: 200px;max-width: 100%;overflow: auto;}#sk-container-id-1 input.sk-toggleable__control:checked~label.sk-toggleable__label-arrow:before {content: \"▾\";}#sk-container-id-1 div.sk-estimator input.sk-toggleable__control:checked~label.sk-toggleable__label {background-color: #d4ebff;}#sk-container-id-1 div.sk-label input.sk-toggleable__control:checked~label.sk-toggleable__label {background-color: #d4ebff;}#sk-container-id-1 input.sk-hidden--visually {border: 0;clip: rect(1px 1px 1px 1px);clip: rect(1px, 1px, 1px, 1px);height: 1px;margin: -1px;overflow: hidden;padding: 0;position: absolute;width: 1px;}#sk-container-id-1 div.sk-estimator {font-family: monospace;background-color: #f0f8ff;border: 1px dotted black;border-radius: 0.25em;box-sizing: border-box;margin-bottom: 0.5em;}#sk-container-id-1 div.sk-estimator:hover {background-color: #d4ebff;}#sk-container-id-1 div.sk-parallel-item::after {content: \"\";width: 100%;border-bottom: 1px solid gray;flex-grow: 1;}#sk-container-id-1 div.sk-label:hover label.sk-toggleable__label {background-color: #d4ebff;}#sk-container-id-1 div.sk-serial::before {content: \"\";position: absolute;border-left: 1px solid gray;box-sizing: border-box;top: 0;bottom: 0;left: 50%;z-index: 0;}#sk-container-id-1 div.sk-serial {display: flex;flex-direction: column;align-items: center;background-color: white;padding-right: 0.2em;padding-left: 0.2em;position: relative;}#sk-container-id-1 div.sk-item {position: relative;z-index: 1;}#sk-container-id-1 div.sk-parallel {display: flex;align-items: stretch;justify-content: center;background-color: white;position: relative;}#sk-container-id-1 div.sk-item::before, #sk-container-id-1 div.sk-parallel-item::before {content: \"\";position: absolute;border-left: 1px solid gray;box-sizing: border-box;top: 0;bottom: 0;left: 50%;z-index: -1;}#sk-container-id-1 div.sk-parallel-item {display: flex;flex-direction: column;z-index: 1;position: relative;background-color: white;}#sk-container-id-1 div.sk-parallel-item:first-child::after {align-self: flex-end;width: 50%;}#sk-container-id-1 div.sk-parallel-item:last-child::after {align-self: flex-start;width: 50%;}#sk-container-id-1 div.sk-parallel-item:only-child::after {width: 0;}#sk-container-id-1 div.sk-dashed-wrapped {border: 1px dashed gray;margin: 0 0.4em 0.5em 0.4em;box-sizing: border-box;padding-bottom: 0.4em;background-color: white;}#sk-container-id-1 div.sk-label label {font-family: monospace;font-weight: bold;display: inline-block;line-height: 1.2em;}#sk-container-id-1 div.sk-label-container {text-align: center;}#sk-container-id-1 div.sk-container {/* jupyter's `normalize.less` sets `[hidden] { display: none; }` but bootstrap.min.css set `[hidden] { display: none !important; }` so we also need the `!important` here to be able to override the default hidden behavior on the sphinx rendered scikit-learn.org. See: https://github.com/scikit-learn/scikit-learn/issues/21755 */display: inline-block !important;position: relative;}#sk-container-id-1 div.sk-text-repr-fallback {display: none;}</style><div id=\"sk-container-id-1\" class=\"sk-top-container\"><div class=\"sk-text-repr-fallback\"><pre>KNeighborsClassifier(n_neighbors=3)</pre><b>In a Jupyter environment, please rerun this cell to show the HTML representation or trust the notebook. <br />On GitHub, the HTML representation is unable to render, please try loading this page with nbviewer.org.</b></div><div class=\"sk-container\" hidden><div class=\"sk-item\"><div class=\"sk-estimator sk-toggleable\"><input class=\"sk-toggleable__control sk-hidden--visually\" id=\"sk-estimator-id-1\" type=\"checkbox\" checked><label for=\"sk-estimator-id-1\" class=\"sk-toggleable__label sk-toggleable__label-arrow\">KNeighborsClassifier</label><div class=\"sk-toggleable__content\"><pre>KNeighborsClassifier(n_neighbors=3)</pre></div></div></div></div></div>"
            ]
          },
          "metadata": {},
          "execution_count": 12
        }
      ]
    },
    {
      "cell_type": "code",
      "source": [
        "y_pred = knn_model.predict(x_test)\n",
        "print(classification_report(y_test, y_pred))"
      ],
      "metadata": {
        "id": "kBFBhUky1MA9",
        "colab": {
          "base_uri": "https://localhost:8080/"
        },
        "outputId": "ee44bb08-c91e-4e36-e311-3a569074a287"
      },
      "execution_count": 13,
      "outputs": [
        {
          "output_type": "stream",
          "name": "stdout",
          "text": [
            "              precision    recall  f1-score   support\n",
            "\n",
            "           1       0.81      0.91      0.85     37798\n",
            "           2       0.72      0.88      0.79     12398\n",
            "           3       0.93      0.85      0.89     83393\n",
            "\n",
            "    accuracy                           0.87    133589\n",
            "   macro avg       0.82      0.88      0.84    133589\n",
            "weighted avg       0.88      0.87      0.87    133589\n",
            "\n"
          ]
        }
      ]
    },
    {
      "cell_type": "markdown",
      "source": [
        "#Naive Bayes"
      ],
      "metadata": {
        "id": "5MZQrRIU1XCg"
      }
    },
    {
      "cell_type": "code",
      "source": [
        "from sklearn.naive_bayes import GaussianNB"
      ],
      "metadata": {
        "id": "_kLRVDQ41Yks"
      },
      "execution_count": 14,
      "outputs": []
    },
    {
      "cell_type": "code",
      "source": [
        "nb_model = GaussianNB()\n",
        "nb_model = nb_model.fit(x_train, y_train)"
      ],
      "metadata": {
        "id": "vMFUfF9B1ZoO"
      },
      "execution_count": 15,
      "outputs": []
    },
    {
      "cell_type": "code",
      "source": [
        "y_pred = nb_model.predict(x_test)\n",
        "print(classification_report(y_test, y_pred))"
      ],
      "metadata": {
        "id": "lOWDlCds1aRK",
        "colab": {
          "base_uri": "https://localhost:8080/"
        },
        "outputId": "a7a7968b-aa8e-4108-9729-79407117ebff"
      },
      "execution_count": 16,
      "outputs": [
        {
          "output_type": "stream",
          "name": "stdout",
          "text": [
            "              precision    recall  f1-score   support\n",
            "\n",
            "           1       0.79      0.89      0.84     37798\n",
            "           2       0.46      0.97      0.62     12398\n",
            "           3       0.93      0.72      0.81     83393\n",
            "\n",
            "    accuracy                           0.79    133589\n",
            "   macro avg       0.73      0.86      0.76    133589\n",
            "weighted avg       0.85      0.79      0.80    133589\n",
            "\n"
          ]
        }
      ]
    },
    {
      "cell_type": "markdown",
      "source": [
        "#Logistic Regression"
      ],
      "metadata": {
        "id": "w6c1JyoC1hk4"
      }
    },
    {
      "cell_type": "code",
      "source": [
        "from sklearn.linear_model import LogisticRegression"
      ],
      "metadata": {
        "id": "ZAN4iPgJ1kdE"
      },
      "execution_count": 17,
      "outputs": []
    },
    {
      "cell_type": "code",
      "source": [
        "lg_model = LogisticRegression(max_iter=1000)\n",
        "lg_model = lg_model.fit(x_train, y_train)"
      ],
      "metadata": {
        "id": "DcSL5LNH1mCN"
      },
      "execution_count": 18,
      "outputs": []
    },
    {
      "cell_type": "code",
      "source": [
        "from google.colab import drive\n",
        "drive.mount('/content/drive')"
      ],
      "metadata": {
        "colab": {
          "base_uri": "https://localhost:8080/"
        },
        "id": "Yig8TDaeESWt",
        "outputId": "446c86c8-c808-47f2-ba96-de652c832e38"
      },
      "execution_count": 19,
      "outputs": [
        {
          "output_type": "stream",
          "name": "stdout",
          "text": [
            "Drive already mounted at /content/drive; to attempt to forcibly remount, call drive.mount(\"/content/drive\", force_remount=True).\n"
          ]
        }
      ]
    },
    {
      "cell_type": "code",
      "source": [
        "y_pred = nb_model.predict(x_test)\n",
        "print(classification_report(y_test, y_pred))"
      ],
      "metadata": {
        "id": "yO2sA0tN10vs",
        "colab": {
          "base_uri": "https://localhost:8080/"
        },
        "outputId": "b1b417e4-2fc8-4924-a522-e9fd9bad5412"
      },
      "execution_count": 20,
      "outputs": [
        {
          "output_type": "stream",
          "name": "stdout",
          "text": [
            "              precision    recall  f1-score   support\n",
            "\n",
            "           1       0.79      0.89      0.84     37798\n",
            "           2       0.46      0.97      0.62     12398\n",
            "           3       0.93      0.72      0.81     83393\n",
            "\n",
            "    accuracy                           0.79    133589\n",
            "   macro avg       0.73      0.86      0.76    133589\n",
            "weighted avg       0.85      0.79      0.80    133589\n",
            "\n"
          ]
        }
      ]
    }
  ]
}